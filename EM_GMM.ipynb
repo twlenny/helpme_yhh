{
 "cells": [
  {
   "cell_type": "code",
   "execution_count": 245,
   "metadata": {},
   "outputs": [],
   "source": [
    "import numpy\n",
    "from scipy.optimize import curve_fit\n",
    "import matplotlib.pyplot as plt\n"
   ]
  },
  {
   "cell_type": "code",
   "execution_count": 246,
   "metadata": {},
   "outputs": [],
   "source": [
    "#df = pd.read_csv('homework.csv', header=None)\n",
    "#df = df.values\n",
    "#data = df.reshape(1720)"
   ]
  },
  {
   "cell_type": "code",
   "execution_count": 247,
   "metadata": {},
   "outputs": [
    {
     "name": "stdout",
     "output_type": "stream",
     "text": [
      "Fitted mean =  -0.02753422644641251\n",
      "Fitted standard deviation =  1.0057801157264854\n"
     ]
    },
    {
     "data": {
      "image/png": "[encoded data removed]",
      "text/plain": [
       "<Figure size 432x288 with 1 Axes>"
      ]
     },
     "metadata": {
      "needs_background": "light"
     },
     "output_type": "display_data"
    }
   ],
   "source": [
    "import numpy\n",
    "from scipy.optimize import curve_fit\n",
    "import matplotlib.pyplot as plt\n",
    "\n",
    "# Define some test data which is close to Gaussian\n",
    "data = numpy.random.normal(size=10000)\n",
    "\n",
    "hist, bin_edges = numpy.histogram(data, density=True)\n",
    "bin_centres = (bin_edges[:-1] + bin_edges[1:])/2\n",
    "\n",
    "# Define model function to be used to fit to the data above:\n",
    "# Adapt it to as many gaussians you may want\n",
    "# by copying the function with different A2,mu2,sigma2 parameters\n",
    "def gauss(x, *p):\n",
    "    A, mu, sigma = p\n",
    "    return A*numpy.exp(-(x-mu)**2/(2.*sigma**2))\n",
    "\n",
    "# p0 is the initial guess for the fitting coefficients (A, mu and sigma above)\n",
    "p0 = [1., 0., 1.]\n",
    "\n",
    "coeff, var_matrix = curve_fit(gauss, bin_centres, hist, p0=p0)\n",
    "\n",
    "# Get the fitted curve\n",
    "hist_fit = gauss(bin_centres, *coeff)\n",
    "\n",
    "plt.plot(bin_centres, hist, label='Test data',color='black',linewidth=5.0, linestyle='dotted')\n",
    "plt.plot(bin_centres, hist_fit, label='Fitted data',color='red',linewidth=3.0, linestyle='solid')\n",
    "\n",
    "# Finally, lets get the fitting parameters, i.e. the mean and standard deviation:\n",
    "print('Fitted mean = ', coeff[1])\n",
    "print('Fitted standard deviation = ', coeff[2])\n",
    "\n",
    "plt.show()\n",
    "\n"
   ]
  },
  {
   "cell_type": "code",
   "execution_count": 248,
   "metadata": {},
   "outputs": [],
   "source": [
    "def gauss2(x, *p):\n",
    "    A1, mu1, sigma1, A2, mu2, sigma2 = p\n",
    "    return A1*numpy.exp(-(x-mu1)**2/(2.*sigma1**2)) + A2*numpy.exp(-(x-mu2)**2/(2.*sigma2**2))\n",
    "\n"
   ]
  },
  {
   "cell_type": "code",
   "execution_count": 249,
   "metadata": {},
   "outputs": [
    {
     "ename": "NameError",
     "evalue": "name 'X_data' is not defined",
     "output_type": "error",
     "traceback": [
      "\u001b[1;31m---------------------------------------------------------------------------\u001b[0m",
      "\u001b[1;31mNameError\u001b[0m                                 Traceback (most recent call last)",
      "\u001b[1;32m<ipython-input-249-f30948a2578d>\u001b[0m in \u001b[0;36m<module>\u001b[1;34m\u001b[0m\n\u001b[0;32m      4\u001b[0m \u001b[1;33m\u001b[0m\u001b[0m\n\u001b[0;32m      5\u001b[0m \u001b[1;33m\u001b[0m\u001b[0m\n\u001b[1;32m----> 6\u001b[1;33m \u001b[0mcoeff\u001b[0m\u001b[1;33m,\u001b[0m \u001b[0mvar_matrix\u001b[0m \u001b[1;33m=\u001b[0m \u001b[0mcurve_fit\u001b[0m\u001b[1;33m(\u001b[0m\u001b[0mgauss\u001b[0m\u001b[1;33m,\u001b[0m \u001b[0mX_data\u001b[0m\u001b[1;33m,\u001b[0m \u001b[0my_data\u001b[0m\u001b[1;33m,\u001b[0m \u001b[0mp0\u001b[0m\u001b[1;33m=\u001b[0m\u001b[0mp0\u001b[0m\u001b[1;33m)\u001b[0m\u001b[1;33m\u001b[0m\u001b[1;33m\u001b[0m\u001b[0m\n\u001b[0m\u001b[0;32m      7\u001b[0m \u001b[1;33m\u001b[0m\u001b[0m\n\u001b[0;32m      8\u001b[0m \u001b[1;31m#you can plot each gaussian separately using\u001b[0m\u001b[1;33m\u001b[0m\u001b[1;33m\u001b[0m\u001b[1;33m\u001b[0m\u001b[0m\n",
      "\u001b[1;31mNameError\u001b[0m: name 'X_data' is not defined"
     ]
    }
   ],
   "source": [
    "\n",
    "# p0 is the initial guess for the fitting coefficients initialize them differently so the optimization algorithm works better\n",
    "p0 = [1., -1., 1.,1., -1., 1.]\n",
    "#optimize and in the end you will have 6 coeff (3 for each gaussian)\n",
    "\n",
    "\n",
    "coeff, var_matrix = curve_fit(gauss, X_data, y_data, p0=p0)\n",
    "\n",
    "#you can plot each gaussian separately using \n",
    "pg1 = coeff[0:3]\n",
    "pg2 = coeff[3:]\n",
    "\n",
    "g1 = gauss(X_data, *pg1)\n",
    "g2 = gauss(X_data, *pg2)\n",
    "\n",
    "plt.plot(X_data, y_data, label='Data')\n",
    "plt.plot(X_data, g1, label='Gaussian1')\n",
    "plt.plot(X_data, g2, label='Gaussian2')\n",
    "\n",
    "\n",
    "#X_data改gauss\n",
    "#Y_data改bin_centres？\n"
   ]
  },
  {
   "cell_type": "code",
   "execution_count": null,
   "metadata": {},
   "outputs": [],
   "source": []
  },
  {
   "cell_type": "code",
   "execution_count": 250,
   "metadata": {},
   "outputs": [
    {
     "ename": "NameError",
     "evalue": "name 'X_data' is not defined",
     "output_type": "error",
     "traceback": [
      "\u001b[1;31m---------------------------------------------------------------------------\u001b[0m",
      "\u001b[1;31mNameError\u001b[0m                                 Traceback (most recent call last)",
      "\u001b[1;32m<ipython-input-250-c4dc0bddb781>\u001b[0m in \u001b[0;36m<module>\u001b[1;34m\u001b[0m\n\u001b[0;32m      3\u001b[0m \u001b[0mpg2\u001b[0m \u001b[1;33m=\u001b[0m \u001b[0mcoeff\u001b[0m\u001b[1;33m[\u001b[0m\u001b[1;36m3\u001b[0m\u001b[1;33m:\u001b[0m\u001b[1;33m]\u001b[0m\u001b[1;33m\u001b[0m\u001b[1;33m\u001b[0m\u001b[0m\n\u001b[0;32m      4\u001b[0m \u001b[1;33m\u001b[0m\u001b[0m\n\u001b[1;32m----> 5\u001b[1;33m \u001b[0mg1\u001b[0m \u001b[1;33m=\u001b[0m \u001b[0mgauss\u001b[0m\u001b[1;33m(\u001b[0m\u001b[0mX_data\u001b[0m\u001b[1;33m,\u001b[0m \u001b[1;33m*\u001b[0m\u001b[0mpg1\u001b[0m\u001b[1;33m)\u001b[0m\u001b[1;33m\u001b[0m\u001b[1;33m\u001b[0m\u001b[0m\n\u001b[0m\u001b[0;32m      6\u001b[0m \u001b[0mg2\u001b[0m \u001b[1;33m=\u001b[0m \u001b[0mgauss\u001b[0m\u001b[1;33m(\u001b[0m\u001b[0mX_data\u001b[0m\u001b[1;33m,\u001b[0m \u001b[1;33m*\u001b[0m\u001b[0mpg2\u001b[0m\u001b[1;33m)\u001b[0m\u001b[1;33m\u001b[0m\u001b[1;33m\u001b[0m\u001b[0m\n\u001b[0;32m      7\u001b[0m \u001b[1;33m\u001b[0m\u001b[0m\n",
      "\u001b[1;31mNameError\u001b[0m: name 'X_data' is not defined"
     ]
    }
   ],
   "source": [
    "#you can plot each gaussian separately using \n",
    "pg1 = coeff[0:3]\n",
    "pg2 = coeff[3:]\n",
    "\n",
    "g1 = gauss(X_data, *pg1)\n",
    "g2 = gauss(X_data, *pg2)\n",
    "\n",
    "plt.plot(X_data, y_data, label='Data')\n",
    "plt.plot(X_data, g1, label='Gaussian1')\n",
    "plt.plot(X_data, g2, label='Gaussian2')\n"
   ]
  },
  {
   "cell_type": "code",
   "execution_count": null,
   "metadata": {},
   "outputs": [],
   "source": []
  },
  {
   "cell_type": "code",
   "execution_count": null,
   "metadata": {},
   "outputs": [],
   "source": []
  },
  {
   "cell_type": "code",
   "execution_count": null,
   "metadata": {},
   "outputs": [],
   "source": []
  },
  {
   "cell_type": "code",
   "execution_count": null,
   "metadata": {},
   "outputs": [],
   "source": []
  },
  {
   "cell_type": "code",
   "execution_count": null,
   "metadata": {},
   "outputs": [],
   "source": []
  }
 ],
 "metadata": {
  "kernelspec": {
   "display_name": "Python [conda env:py] *",
   "language": "python",
   "name": "conda-env-py-py"
  },
  "language_info": {
   "codemirror_mode": {
    "name": "ipython",
    "version": 3
   },
   "file_extension": ".py",
   "mimetype": "text/x-python",
   "name": "python",
   "nbconvert_exporter": "python",
   "pygments_lexer": "ipython3",
   "version": "3.7.7"
  }
 },
 "nbformat": 4,
 "nbformat_minor": 4
}
