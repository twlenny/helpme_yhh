{
 "cells": [
  {
   "cell_type": "code",
   "execution_count": 33,
   "metadata": {},
   "outputs": [
    {
     "data": {
      "text/plain": [
       "['bad', 'good', 'none']"
      ]
     },
     "execution_count": 33,
     "metadata": {},
     "output_type": "execute_result"
    }
   ],
   "source": [
    "import cv2,os\n",
    "data_path='croped_image'\n",
    "categories=os.listdir(data_path)\n",
    "categories\n"
   ]
  },
  {
   "cell_type": "code",
   "execution_count": 34,
   "metadata": {},
   "outputs": [
    {
     "data": {
      "text/plain": [
       "[0, 1, 2]"
      ]
     },
     "execution_count": 34,
     "metadata": {},
     "output_type": "execute_result"
    }
   ],
   "source": [
    "labels=[i for i in range(len(categories))]\n",
    "labels\n"
   ]
  },
  {
   "cell_type": "code",
   "execution_count": 35,
   "metadata": {},
   "outputs": [],
   "source": [
    "label_dict=dict(zip(categories,labels))\n",
    "\n"
   ]
  },
  {
   "cell_type": "code",
   "execution_count": 36,
   "metadata": {},
   "outputs": [
    {
     "data": {
      "text/plain": [
       "{'bad': 0, 'good': 1, 'none': 2}"
      ]
     },
     "execution_count": 36,
     "metadata": {},
     "output_type": "execute_result"
    }
   ],
   "source": [
    "label_dict"
   ]
  },
  {
   "cell_type": "code",
   "execution_count": 37,
   "metadata": {},
   "outputs": [
    {
     "name": "stdout",
     "output_type": "stream",
     "text": [
      "{'bad': 0, 'good': 1, 'none': 2}\n",
      "['bad', 'good', 'none']\n",
      "[0, 1, 2]\n"
     ]
    }
   ],
   "source": [
    "print(label_dict)\n",
    "print(categories)\n",
    "print(labels)"
   ]
  },
  {
   "cell_type": "code",
   "execution_count": 38,
   "metadata": {},
   "outputs": [],
   "source": [
    "img_size=100\n",
    "data=[]\n",
    "target=[]\n",
    "\n",
    "\n",
    "for category in categories:\n",
    "    folder_path=os.path.join(data_path,category)\n",
    "    img_names=os.listdir(folder_path)\n",
    "        \n",
    "    for img_name in img_names:\n",
    "        img_path=os.path.join(folder_path,img_name)\n",
    "        img=cv2.imread(img_path)\n",
    "\n",
    "        try:\n",
    "            gray=cv2.cvtColor(img,cv2.COLOR_BGR2GRAY)           \n",
    "            #Coverting the image into gray scale\n",
    "            resized=cv2.resize(gray,(img_size,img_size))\n",
    "            #resizing the gray scale into 100x100, since we need a fixed common size for all the images in the dataset\n",
    "            data.append(resized)\n",
    "            target.append(label_dict[category])\n",
    "            #appending the image and the label(categorized) into the list (dataset)\n",
    "\n",
    "        except Exception as e:\n",
    "            print('Exception:',e)\n",
    "            #if any exception rasied, the exception will be printed here. And pass to the next image"
   ]
  },
  {
   "cell_type": "code",
   "execution_count": 39,
   "metadata": {},
   "outputs": [
    {
     "name": "stdout",
     "output_type": "stream",
     "text": [
      "[2, 2, 2, 2, 2, 2, 2, 2, 2, 2, 2, 2, 2, 2, 2, 2, 2, 2, 2, 2, 2, 2]\n"
     ]
    }
   ],
   "source": [
    "print(target)"
   ]
  },
  {
   "cell_type": "code",
   "execution_count": 40,
   "metadata": {},
   "outputs": [
    {
     "data": {
      "text/plain": [
       "[array([[ 28,  28,  27, ...,  32,  32,  32],\n",
       "        [ 28,  28,  27, ...,  32,  32,  32],\n",
       "        [ 28,  28,  27, ...,  31,  31,  32],\n",
       "        ...,\n",
       "        [175, 175, 177, ...,  99, 102, 103],\n",
       "        [169, 170, 172, ...,  99, 102, 103],\n",
       "        [171, 171, 172, ...,  99, 102, 103]], dtype=uint8),\n",
       " array([[57, 55, 56, ..., 38, 42, 46],\n",
       "        [55, 54, 54, ..., 20, 21, 24],\n",
       "        [53, 52, 52, ...,  8,  6,  8],\n",
       "        ...,\n",
       "        [12,  6,  2, ..., 31, 24, 26],\n",
       "        [15,  9,  4, ..., 32, 26, 28],\n",
       "        [17, 10,  5, ..., 34, 28, 29]], dtype=uint8),\n",
       " array([[ 33,  42,  57, ...,  39,  23,  56],\n",
       "        [ 26,  53,  42, ...,  29,  32,  76],\n",
       "        [ 46,  21,  50, ...,  16,  37,  39],\n",
       "        ...,\n",
       "        [113, 142, 100, ...,  68,  60,  51],\n",
       "        [153, 149, 144, ...,  75,  99,  88],\n",
       "        [108,  91, 150, ...,  62, 110,  72]], dtype=uint8),\n",
       " array([[ 21,  20,  25, ..., 119, 219, 137],\n",
       "        [ 19,  19,  24, ..., 179, 111, 104],\n",
       "        [ 19,  19,  21, ..., 149, 149, 117],\n",
       "        ...,\n",
       "        [203, 202, 200, ..., 205, 206, 207],\n",
       "        [195, 196, 196, ..., 204, 205, 206],\n",
       "        [199, 198, 197, ..., 203, 204, 205]], dtype=uint8),\n",
       " array([[ 59,  52,  54, ...,  28,  35,  39],\n",
       "        [ 64,  60,  52, ...,  36,  35,  37],\n",
       "        [ 60,  60,  50, ...,  31,  31,  35],\n",
       "        ...,\n",
       "        [227, 227, 226, ...,  23,  27,  32],\n",
       "        [226, 225, 224, ...,  21,  24,  28],\n",
       "        [225, 223, 223, ...,  23,  28,  33]], dtype=uint8),\n",
       " array([[101, 100, 100, ...,  63,  60,  60],\n",
       "        [103, 103, 103, ...,  63,  63,  64],\n",
       "        [103, 103, 104, ...,  62,  64,  64],\n",
       "        ...,\n",
       "        [164, 160, 153, ..., 150, 154, 157],\n",
       "        [140, 141, 141, ..., 155, 159, 161],\n",
       "        [149, 149, 146, ..., 158, 161, 162]], dtype=uint8),\n",
       " array([[21, 21, 20, ..., 20, 20, 20],\n",
       "        [21, 21, 21, ..., 20, 20, 20],\n",
       "        [21, 21, 21, ..., 20, 20, 20],\n",
       "        ...,\n",
       "        [31, 23, 30, ..., 41, 40, 40],\n",
       "        [29, 21, 26, ..., 40, 39, 39],\n",
       "        [30, 19, 23, ..., 39, 38, 38]], dtype=uint8),\n",
       " array([[130, 117, 118, ...,  79,  79,  81],\n",
       "        [131, 117, 118, ...,  78,  79,  81],\n",
       "        [129, 114, 116, ...,  78,  79,  81],\n",
       "        ...,\n",
       "        [197, 206, 218, ..., 179, 181, 183],\n",
       "        [246, 249, 250, ..., 183, 182, 181],\n",
       "        [253, 255, 255, ..., 183, 182, 182]], dtype=uint8),\n",
       " array([[ 82,  77,  68, ...,  82,  89,  92],\n",
       "        [ 88,  83,  73, ...,  78,  86,  89],\n",
       "        [ 97,  90,  78, ...,  72,  81,  84],\n",
       "        ...,\n",
       "        [ 71,  72,  76, ..., 108, 106, 105],\n",
       "        [ 71,  72,  76, ..., 110, 106, 105],\n",
       "        [ 72,  73,  76, ..., 111, 107, 105]], dtype=uint8),\n",
       " array([[54, 55, 58, ..., 67, 61, 60],\n",
       "        [53, 55, 59, ..., 66, 60, 59],\n",
       "        [52, 54, 60, ..., 64, 59, 58],\n",
       "        ...,\n",
       "        [92, 90, 87, ..., 71, 72, 72],\n",
       "        [94, 92, 87, ..., 66, 66, 67],\n",
       "        [96, 93, 87, ..., 66, 65, 65]], dtype=uint8),\n",
       " array([[ 32,  33,  33, ...,  32,  32,  32],\n",
       "        [ 33,  33,  33, ...,  34,  34,  34],\n",
       "        [ 33,  34,  34, ...,  36,  36,  36],\n",
       "        ...,\n",
       "        [ 76,  75,  72, ...,  98,  95,  95],\n",
       "        [ 72,  72,  72, ..., 101,  97,  96],\n",
       "        [ 71,  72,  72, ..., 102,  98,  96]], dtype=uint8),\n",
       " array([[ 66,  72,  73, ..., 117, 117, 113],\n",
       "        [ 67,  72,  72, ..., 116, 113, 108],\n",
       "        [ 69,  73,  74, ..., 121, 113, 105],\n",
       "        ...,\n",
       "        [ 13,  12,  11, ...,  19,  19,  21],\n",
       "        [ 14,  13,  12, ...,  18,  19,  21],\n",
       "        [ 14,  13,  12, ...,  18,  19,  21]], dtype=uint8),\n",
       " array([[  9,   8,  11, ...,  88,  87,  87],\n",
       "        [ 10,   8,   7, ...,  92,  85,  80],\n",
       "        [ 13,  12,  11, ...,  95,  85,  77],\n",
       "        ...,\n",
       "        [ 69,  69,  69, ..., 152, 137, 117],\n",
       "        [ 68,  70,  69, ..., 145, 120,  94],\n",
       "        [ 68,  70,  68, ..., 126,  93,  62]], dtype=uint8),\n",
       " array([[ 2,  4,  6, ...,  2,  2,  2],\n",
       "        [ 3,  3,  6, ...,  2,  2,  2],\n",
       "        [ 1,  2,  7, ...,  2,  2,  2],\n",
       "        ...,\n",
       "        [ 7,  5,  3, ..., 59, 59, 59],\n",
       "        [ 6,  4,  2, ..., 57, 57, 57],\n",
       "        [ 6,  4,  2, ..., 56, 56, 56]], dtype=uint8),\n",
       " array([[209, 209, 210, ...,  32,  32,  32],\n",
       "        [205, 205, 205, ...,  32,  32,  32],\n",
       "        [198, 198, 198, ...,  31,  31,  31],\n",
       "        ...,\n",
       "        [163, 165, 168, ..., 115, 115, 115],\n",
       "        [164, 166, 168, ..., 113, 113, 113],\n",
       "        [162, 164, 166, ..., 113, 113, 114]], dtype=uint8),\n",
       " array([[ 11,  20,   7, ...,  31,  31,  32],\n",
       "        [ 11,  15,   3, ...,  31,  31,  31],\n",
       "        [ 11,  37,  86, ...,  31,  31,  32],\n",
       "        ...,\n",
       "        [213, 231, 228, ...,  42,  42,  41],\n",
       "        [245, 238, 228, ...,  43,  43,  42],\n",
       "        [232, 219, 215, ...,  44,  43,  42]], dtype=uint8),\n",
       " array([[139, 182, 210, ...,  47,  48,  49],\n",
       "        [164, 196, 206, ...,  47,  48,  48],\n",
       "        [174, 202, 202, ...,  47,  47,  48],\n",
       "        ...,\n",
       "        [163, 161, 160, ...,  31,  29,  32],\n",
       "        [168, 167, 165, ...,  32,  29,  30],\n",
       "        [170, 169, 168, ..., 110,  88,  77]], dtype=uint8),\n",
       " array([[ 44,  45,  48, ...,  20,  22,  23],\n",
       "        [ 42,  45,  46, ...,  20,  21,  22],\n",
       "        [ 40,  45,  45, ...,  20,  21,  22],\n",
       "        ...,\n",
       "        [205, 207, 207, ...,  28,  29,  29],\n",
       "        [203, 206, 206, ...,  27,  27,  28],\n",
       "        [200, 204, 204, ...,  26,  26,  26]], dtype=uint8),\n",
       " array([[30, 31, 25, ..., 31, 32, 31],\n",
       "        [30, 30, 25, ..., 31, 31, 30],\n",
       "        [35, 32, 26, ..., 28, 27, 26],\n",
       "        ...,\n",
       "        [35, 33, 32, ..., 12, 11, 12],\n",
       "        [32, 32, 32, ..., 11, 11, 12],\n",
       "        [31, 30, 32, ..., 12, 12, 13]], dtype=uint8),\n",
       " array([[211, 229, 240, ..., 207, 211, 213],\n",
       "        [237, 244, 243, ..., 206, 206, 206],\n",
       "        [250, 248, 240, ..., 210, 203, 198],\n",
       "        ...,\n",
       "        [ 63,  71,  78, ...,  86,  86,  85],\n",
       "        [ 70,  76,  81, ...,  86,  85,  84],\n",
       "        [ 74,  79,  82, ...,  85,  84,  83]], dtype=uint8),\n",
       " array([[25, 26, 40, ..., 25, 23, 22],\n",
       "        [25, 35, 47, ..., 26, 24, 23],\n",
       "        [32, 41, 52, ..., 25, 24, 23],\n",
       "        ...,\n",
       "        [41, 36, 42, ..., 93, 56, 36],\n",
       "        [40, 43, 33, ..., 96, 60, 40],\n",
       "        [39, 39, 37, ..., 98, 60, 38]], dtype=uint8),\n",
       " array([[30, 31, 31, ..., 45, 44, 44],\n",
       "        [31, 31, 31, ..., 44, 43, 43],\n",
       "        [31, 31, 31, ..., 44, 43, 43],\n",
       "        ...,\n",
       "        [55, 55, 53, ..., 20, 20, 20],\n",
       "        [57, 56, 54, ..., 20, 20, 20],\n",
       "        [57, 56, 54, ..., 20, 20, 20]], dtype=uint8)]"
      ]
     },
     "execution_count": 40,
     "metadata": {},
     "output_type": "execute_result"
    }
   ],
   "source": [
    "data"
   ]
  },
  {
   "cell_type": "code",
   "execution_count": 41,
   "metadata": {},
   "outputs": [],
   "source": [
    "import numpy as np\n",
    "\n",
    "data=np.array(data)/255.0\n",
    "data=np.reshape(data,(data.shape[0],img_size,img_size,1))\n",
    "target=np.array(target)\n",
    "\n",
    "from keras.utils import np_utils\n",
    "\n",
    "new_target=np_utils.to_categorical(target)"
   ]
  },
  {
   "cell_type": "code",
   "execution_count": 42,
   "metadata": {},
   "outputs": [],
   "source": [
    "np.save('test_none_data',data)\n",
    "np.save('test_none_target',new_target)"
   ]
  },
  {
   "cell_type": "code",
   "execution_count": 43,
   "metadata": {},
   "outputs": [],
   "source": [
    "#np.save('data',data)\n",
    "#np.save('target',new_target)"
   ]
  },
  {
   "cell_type": "code",
   "execution_count": null,
   "metadata": {},
   "outputs": [],
   "source": []
  },
  {
   "cell_type": "code",
   "execution_count": null,
   "metadata": {},
   "outputs": [],
   "source": []
  },
  {
   "cell_type": "code",
   "execution_count": null,
   "metadata": {},
   "outputs": [],
   "source": []
  }
 ],
 "metadata": {
  "kernelspec": {
   "display_name": "Python 3",
   "language": "python",
   "name": "python3"
  },
  "language_info": {
   "codemirror_mode": {
    "name": "ipython",
    "version": 3
   },
   "file_extension": ".py",
   "mimetype": "text/x-python",
   "name": "python",
   "nbconvert_exporter": "python",
   "pygments_lexer": "ipython3",
   "version": "3.7.7"
  }
 },
 "nbformat": 4,
 "nbformat_minor": 2
}
