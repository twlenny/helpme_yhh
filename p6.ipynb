{
 "cells": [
  {
   "cell_type": "code",
   "execution_count": null,
   "metadata": {},
   "outputs": [],
   "source": [
    "# https://stackoverflow.com/questions/52802910/opencv-color-segmentation-using-kmeans?fbclid=IwAR1JxFDcVs6qSdcRrlulPAOzBzGF-qm7MOddbTH5NgheFGbcjkeQD8CbKaQ\n",
    "\n",
    "import cv2\n",
    "import numpy as np\n",
    "\n",
    "# Read the image and transform it to HSV color space\n",
    "img = cv2.imread('fruit on tree.tif')\n",
    "hsv = cv2.cvtColor(img, cv2.COLOR_BGR2HSV)\n",
    "\n",
    "# define ranges for colors in HSV color space you wish to display\n",
    "\n",
    "## LIGHT AND DARK GREEN\n",
    "lower_green_light = np.array([20,20,50])\n",
    "upper_green_light = np.array([130,150,255])\n",
    "\n",
    "## DARK GREEN\n",
    "lower_green = np.array([0, 70, 50])\n",
    "upper_green = np.array([170, 180, 100])\n",
    "\n",
    "## RED\n",
    "lower_red = np.array([170, 130, 0])\n",
    "upper_red = np.array([180, 255, 255])\n",
    "\n",
    "# Threshold with inRange() get only specific colors\n",
    "mask_green = cv2.inRange(hsv, lower_green, upper_green)\n",
    "mask_green_light = cv2.inRange(hsv, lower_green_light, upper_green_light)\n",
    "mask_red = cv2.inRange(hsv, lower_red, upper_red)\n",
    "\n",
    "# Perform bitwise operation with the masks and original image\n",
    "res_green = cv2.bitwise_and(img,img, mask= mask_green)\n",
    "res_green_light = cv2.bitwise_and(img,img, mask= mask_green_light)\n",
    "res_red = cv2.bitwise_and(img,img, mask= mask_red)\n",
    "\n",
    "# Display results\n",
    "cv2.imshow('red', res_red)\n",
    "cv2.imshow('green', res_green)\n",
    "cv2.imshow('light green', res_green_light)\n",
    "cv2.waitKey(0)\n",
    "cv2.destroyAllWindows()"
   ]
  }
 ],
 "metadata": {
  "kernelspec": {
   "display_name": "Python [conda env:py] *",
   "language": "python",
   "name": "conda-env-py-py"
  },
  "language_info": {
   "codemirror_mode": {
    "name": "ipython",
    "version": 3
   },
   "file_extension": ".py",
   "mimetype": "text/x-python",
   "name": "python",
   "nbconvert_exporter": "python",
   "pygments_lexer": "ipython3",
   "version": "3.7.7"
  }
 },
 "nbformat": 4,
 "nbformat_minor": 4
}
