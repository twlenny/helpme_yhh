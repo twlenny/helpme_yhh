{
 "cells": [
  {
   "cell_type": "code",
   "execution_count": 37,
   "metadata": {},
   "outputs": [],
   "source": [
    "import numpy as np\n",
    "\n",
    "data=np.load('data.npy')\n",
    "target=np.load('target.npy')\n",
    "\n",
    "#loading the save numpy arrays in the previous code"
   ]
  },
  {
   "cell_type": "code",
   "execution_count": 38,
   "metadata": {},
   "outputs": [],
   "source": [
    "from keras.models import Sequential\n",
    "from keras.layers import Dense,Activation,Flatten,Dropout\n",
    "from keras.layers import Conv2D,MaxPooling2D\n",
    "from keras.callbacks import ModelCheckpoint\n",
    "\n",
    "model=Sequential()\n",
    "\n",
    "model.add(Conv2D(100,(3,3),strides=(1,1),input_shape=data.shape[1:]))\n",
    "model.add(Activation('relu'))\n",
    "model.add(MaxPooling2D(pool_size=(2,2)))\n",
    "#The first CNN layer followed by Relu and MaxPooling layers\n",
    "\n",
    "model.add(Conv2D(100,(3,3)))\n",
    "model.add(Activation('relu'))\n",
    "model.add(MaxPooling2D(pool_size=(2,2)))\n",
    "#The second convolution layer followed by Relu and MaxPooling layers\n",
    "\n",
    "model.add(Flatten())\n",
    "model.add(Dropout(0.5))\n",
    "#Flatten layer to stack the output convolutions from second convolution layer\n",
    "model.add(Dense(50,activation='relu'))\n",
    "#Dense layer of 64 neurons\n",
    "model.add(Dense(3,activation='softmax'))\n",
    "#The Final layer with two outputs for two categories\n",
    "\n",
    "model.compile(loss='binary_crossentropy',optimizer='adam',metrics=['accuracy'])"
   ]
  },
  {
   "cell_type": "code",
   "execution_count": 39,
   "metadata": {},
   "outputs": [
    {
     "name": "stdout",
     "output_type": "stream",
     "text": [
      "Model: \"sequential_9\"\n",
      "_________________________________________________________________\n",
      "Layer (type)                 Output Shape              Param #   \n",
      "=================================================================\n",
      "conv2d_15 (Conv2D)           (None, 98, 98, 100)       1000      \n",
      "_________________________________________________________________\n",
      "activation_15 (Activation)   (None, 98, 98, 100)       0         \n",
      "_________________________________________________________________\n",
      "max_pooling2d_15 (MaxPooling (None, 49, 49, 100)       0         \n",
      "_________________________________________________________________\n",
      "conv2d_16 (Conv2D)           (None, 47, 47, 100)       90100     \n",
      "_________________________________________________________________\n",
      "activation_16 (Activation)   (None, 47, 47, 100)       0         \n",
      "_________________________________________________________________\n",
      "max_pooling2d_16 (MaxPooling (None, 23, 23, 100)       0         \n",
      "_________________________________________________________________\n",
      "flatten_8 (Flatten)          (None, 52900)             0         \n",
      "_________________________________________________________________\n",
      "dropout_8 (Dropout)          (None, 52900)             0         \n",
      "_________________________________________________________________\n",
      "dense_15 (Dense)             (None, 50)                2645050   \n",
      "_________________________________________________________________\n",
      "dense_16 (Dense)             (None, 3)                 153       \n",
      "=================================================================\n",
      "Total params: 2,736,303\n",
      "Trainable params: 2,736,303\n",
      "Non-trainable params: 0\n",
      "_________________________________________________________________\n"
     ]
    }
   ],
   "source": []
  },
  {
   "cell_type": "code",
   "execution_count": 40,
   "metadata": {},
   "outputs": [],
   "source": [
    "from sklearn.model_selection import train_test_split\n",
    "\n",
    "train_data,test_data,train_target,test_target=train_test_split(data,target,test_size=0.1)"
   ]
  },
  {
   "cell_type": "code",
   "execution_count": 41,
   "metadata": {},
   "outputs": [
    {
     "name": "stdout",
     "output_type": "stream",
     "text": [
      "Train on 2527 samples, validate on 632 samples\n",
      "Epoch 1/20\n",
      "2527/2527 [==============================] - 2s 899us/step - loss: 0.3211 - accuracy: 0.8742 - val_loss: 0.3055 - val_accuracy: 0.8418\n",
      "Epoch 2/20\n",
      "2527/2527 [==============================] - 2s 820us/step - loss: 0.2493 - accuracy: 0.8968 - val_loss: 0.2286 - val_accuracy: 0.8866\n",
      "Epoch 3/20\n",
      "2527/2527 [==============================] - 2s 816us/step - loss: 0.2061 - accuracy: 0.9152 - val_loss: 0.2314 - val_accuracy: 0.8935\n",
      "Epoch 4/20\n",
      "2527/2527 [==============================] - 2s 819us/step - loss: 0.1878 - accuracy: 0.9238 - val_loss: 0.1934 - val_accuracy: 0.9262\n",
      "Epoch 5/20\n",
      "2527/2527 [==============================] - 2s 826us/step - loss: 0.1580 - accuracy: 0.9371 - val_loss: 0.2153 - val_accuracy: 0.9182\n",
      "Epoch 6/20\n",
      "2527/2527 [==============================] - 2s 822us/step - loss: 0.1487 - accuracy: 0.9363 - val_loss: 0.2081 - val_accuracy: 0.9246\n",
      "Epoch 7/20\n",
      "2527/2527 [==============================] - 2s 824us/step - loss: 0.1326 - accuracy: 0.9439 - val_loss: 0.2088 - val_accuracy: 0.9293\n",
      "Epoch 8/20\n",
      "2527/2527 [==============================] - 2s 826us/step - loss: 0.1244 - accuracy: 0.9495 - val_loss: 0.1989 - val_accuracy: 0.9251\n",
      "Epoch 9/20\n",
      "2527/2527 [==============================] - 2s 817us/step - loss: 0.1074 - accuracy: 0.9588 - val_loss: 0.2095 - val_accuracy: 0.9299\n",
      "Epoch 10/20\n",
      "2527/2527 [==============================] - 2s 816us/step - loss: 0.0921 - accuracy: 0.9640 - val_loss: 0.2287 - val_accuracy: 0.9225\n",
      "Epoch 11/20\n",
      "2527/2527 [==============================] - 2s 819us/step - loss: 0.0837 - accuracy: 0.9677 - val_loss: 0.2146 - val_accuracy: 0.9304\n",
      "Epoch 12/20\n",
      "2527/2527 [==============================] - 2s 821us/step - loss: 0.0663 - accuracy: 0.9731 - val_loss: 0.2555 - val_accuracy: 0.9330\n",
      "Epoch 13/20\n",
      "2527/2527 [==============================] - 2s 820us/step - loss: 0.0664 - accuracy: 0.9764 - val_loss: 0.2570 - val_accuracy: 0.9272\n",
      "Epoch 14/20\n",
      "2527/2527 [==============================] - 2s 819us/step - loss: 0.0640 - accuracy: 0.9743 - val_loss: 0.2670 - val_accuracy: 0.9235\n",
      "Epoch 15/20\n",
      "2527/2527 [==============================] - 2s 825us/step - loss: 0.0519 - accuracy: 0.9803 - val_loss: 0.2478 - val_accuracy: 0.9304\n",
      "Epoch 16/20\n",
      "2527/2527 [==============================] - 2s 825us/step - loss: 0.0437 - accuracy: 0.9829 - val_loss: 0.2578 - val_accuracy: 0.9304\n",
      "Epoch 17/20\n",
      "2527/2527 [==============================] - 2s 824us/step - loss: 0.0371 - accuracy: 0.9868 - val_loss: 0.2764 - val_accuracy: 0.9309\n",
      "Epoch 18/20\n",
      "2527/2527 [==============================] - 2s 824us/step - loss: 0.0303 - accuracy: 0.9875 - val_loss: 0.3095 - val_accuracy: 0.9272\n",
      "Epoch 19/20\n",
      "2527/2527 [==============================] - 2s 823us/step - loss: 0.0254 - accuracy: 0.9902 - val_loss: 0.3478 - val_accuracy: 0.9198\n",
      "Epoch 20/20\n",
      "2527/2527 [==============================] - 2s 825us/step - loss: 0.0255 - accuracy: 0.9904 - val_loss: 0.3450 - val_accuracy: 0.9061\n"
     ]
    }
   ],
   "source": [
    "checkpoint = ModelCheckpoint('model-{epoch:03d}.model',monitor='val_loss',verbose=0,save_best_only=True,mode='auto')\n",
    "history=model.fit(train_data,train_target,epochs=20,callbacks=[checkpoint],validation_split=0.2)"
   ]
  },
  {
   "cell_type": "code",
   "execution_count": 42,
   "metadata": {},
   "outputs": [
    {
     "data": {
      "image/png": "[encoded data removed]",
      "text/plain": [
       "<Figure size 432x288 with 1 Axes>"
      ]
     },
     "metadata": {
      "needs_background": "light"
     },
     "output_type": "display_data"
    }
   ],
   "source": [
    "from matplotlib import pyplot as plt\n",
    "\n",
    "plt.plot(history.history['loss'],'r',label='training loss')\n",
    "plt.plot(history.history['val_loss'],label='validation loss')\n",
    "plt.xlabel('epochs')\n",
    "plt.ylabel('Loss')\n",
    "plt.legend()\n",
    "plt.show()"
   ]
  },
  {
   "cell_type": "code",
   "execution_count": 43,
   "metadata": {},
   "outputs": [
    {
     "data": {
      "image/png": "[encoded data removed]",
      "text/plain": [
       "<Figure size 432x288 with 1 Axes>"
      ]
     },
     "metadata": {
      "needs_background": "light"
     },
     "output_type": "display_data"
    }
   ],
   "source": [
    "plt.plot(history.history['accuracy'],'r',label='training accuracy')\n",
    "plt.plot(history.history['val_accuracy'],label='validation accuracy')\n",
    "plt.xlabel('Epochs')\n",
    "plt.ylabel('Accuracy')\n",
    "plt.legend()\n",
    "plt.show()"
   ]
  },
  {
   "cell_type": "code",
   "execution_count": 44,
   "metadata": {},
   "outputs": [
    {
     "name": "stdout",
     "output_type": "stream",
     "text": [
      "352/352 [==============================] - 0s 312us/step\n",
      "[0.3854952644218098, 0.8920453786849976]\n"
     ]
    }
   ],
   "source": [
    "print(model.evaluate(test_data,test_target))"
   ]
  },
  {
   "cell_type": "code",
   "execution_count": 45,
   "metadata": {},
   "outputs": [],
   "source": [
    "model.save('MASK_MODEL.h5')"
   ]
  },
  {
   "cell_type": "code",
   "execution_count": 46,
   "metadata": {},
   "outputs": [],
   "source": [
    "#model = load_model('MASK_MODEL.h5')"
   ]
  },
  {
   "cell_type": "code",
   "execution_count": null,
   "metadata": {},
   "outputs": [],
   "source": []
  },
  {
   "cell_type": "code",
   "execution_count": null,
   "metadata": {},
   "outputs": [],
   "source": []
  }
 ],
 "metadata": {
  "kernelspec": {
   "display_name": "Python 3",
   "language": "python",
   "name": "python3"
  },
  "language_info": {
   "codemirror_mode": {
    "name": "ipython",
    "version": 3
   },
   "file_extension": ".py",
   "mimetype": "text/x-python",
   "name": "python",
   "nbconvert_exporter": "python",
   "pygments_lexer": "ipython3",
   "version": "3.7.7"
  }
 },
 "nbformat": 4,
 "nbformat_minor": 2
}
